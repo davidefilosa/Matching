{
 "cells": [
  {
   "cell_type": "markdown",
   "id": "01c8f5f4",
   "metadata": {},
   "source": [
    "# Remote Work and Career Satisfaction\n",
    "\n",
    "## What what will we do in this project?\n",
    "\n",
    "\n",
    "In this project we will investigate whether people who work remotely are more satisfied with their career than those who don't.\n",
    "\n",
    "Since a randomized experiment is not available, we will try to answer this question using the matching method.\n",
    "\n",
    "The matching will help us to reduce the (self)-selection bias. (Self)-selection bias arises in any situation in which individuals select themselves into a group, causing a biased sample. \n",
    "\n",
    "Since the two groups (remote workers and non-remote workers) are inherently different from the beginning, we cannot make a simple comparison.\n",
    "\n",
    "The possibility of bias arises because a difference in the treatment outcome between treated and untreated groups may be caused by a factor that predicts treatment rather than the treatment itself. \n",
    "\n",
    "What we're going to do with the matching is create an artificial control group that has similar characteristics to the group receiving the treatment."
   ]
  },
  {
   "cell_type": "code",
   "execution_count": 1,
   "id": "66425583",
   "metadata": {},
   "outputs": [],
   "source": [
    "# importing libraries\n",
    "import pandas as pd\n",
    "import seaborn as sns\n",
    "import numpy as np\n",
    "import scipy.stats as ss\n",
    "from causalinference import CausalModel\n",
    "import warnings\n",
    "warnings.filterwarnings('ignore')"
   ]
  },
  {
   "cell_type": "code",
   "execution_count": 2,
   "id": "ffe53a7f",
   "metadata": {},
   "outputs": [],
   "source": [
    "#importing data\n",
    "df = pd.read_csv('stackoverflow.csv')\n"
   ]
  },
  {
   "cell_type": "code",
   "execution_count": 3,
   "id": "1e9f9f4d",
   "metadata": {},
   "outputs": [
    {
     "data": {
      "text/html": [
       "<div>\n",
       "<style scoped>\n",
       "    .dataframe tbody tr th:only-of-type {\n",
       "        vertical-align: middle;\n",
       "    }\n",
       "\n",
       "    .dataframe tbody tr th {\n",
       "        vertical-align: top;\n",
       "    }\n",
       "\n",
       "    .dataframe thead th {\n",
       "        text-align: right;\n",
       "    }\n",
       "</style>\n",
       "<table border=\"1\" class=\"dataframe\">\n",
       "  <thead>\n",
       "    <tr style=\"text-align: right;\">\n",
       "      <th></th>\n",
       "      <th>Country</th>\n",
       "      <th>Salary</th>\n",
       "      <th>YearsCodedJob</th>\n",
       "      <th>OpenSource</th>\n",
       "      <th>Hobby</th>\n",
       "      <th>CompanySizeNumber</th>\n",
       "      <th>Remote</th>\n",
       "      <th>CareerSatisfaction</th>\n",
       "      <th>Data_scientist</th>\n",
       "      <th>Database_administrator</th>\n",
       "      <th>...</th>\n",
       "      <th>Developer_with_stats_math_background</th>\n",
       "      <th>DevOps</th>\n",
       "      <th>Embedded_developer</th>\n",
       "      <th>Graphic_designer</th>\n",
       "      <th>Graphics_programming</th>\n",
       "      <th>Machine_learning_specialist</th>\n",
       "      <th>Mobile_developer</th>\n",
       "      <th>Quality_assurance_engineer</th>\n",
       "      <th>Systems_administrator</th>\n",
       "      <th>Web_developer</th>\n",
       "    </tr>\n",
       "  </thead>\n",
       "  <tbody>\n",
       "    <tr>\n",
       "      <th>0</th>\n",
       "      <td>United Kingdom</td>\n",
       "      <td>100000.000000</td>\n",
       "      <td>20</td>\n",
       "      <td>0</td>\n",
       "      <td>1</td>\n",
       "      <td>5000</td>\n",
       "      <td>Remote</td>\n",
       "      <td>8</td>\n",
       "      <td>0</td>\n",
       "      <td>0</td>\n",
       "      <td>...</td>\n",
       "      <td>0</td>\n",
       "      <td>0</td>\n",
       "      <td>1</td>\n",
       "      <td>0</td>\n",
       "      <td>0</td>\n",
       "      <td>0</td>\n",
       "      <td>0</td>\n",
       "      <td>0</td>\n",
       "      <td>0</td>\n",
       "      <td>0</td>\n",
       "    </tr>\n",
       "    <tr>\n",
       "      <th>1</th>\n",
       "      <td>United States</td>\n",
       "      <td>130000.000000</td>\n",
       "      <td>20</td>\n",
       "      <td>1</td>\n",
       "      <td>1</td>\n",
       "      <td>1000</td>\n",
       "      <td>Remote</td>\n",
       "      <td>9</td>\n",
       "      <td>0</td>\n",
       "      <td>0</td>\n",
       "      <td>...</td>\n",
       "      <td>0</td>\n",
       "      <td>1</td>\n",
       "      <td>1</td>\n",
       "      <td>0</td>\n",
       "      <td>0</td>\n",
       "      <td>0</td>\n",
       "      <td>0</td>\n",
       "      <td>1</td>\n",
       "      <td>0</td>\n",
       "      <td>1</td>\n",
       "    </tr>\n",
       "    <tr>\n",
       "      <th>2</th>\n",
       "      <td>United States</td>\n",
       "      <td>175000.000000</td>\n",
       "      <td>16</td>\n",
       "      <td>0</td>\n",
       "      <td>1</td>\n",
       "      <td>10000</td>\n",
       "      <td>Not remote</td>\n",
       "      <td>7</td>\n",
       "      <td>0</td>\n",
       "      <td>0</td>\n",
       "      <td>...</td>\n",
       "      <td>0</td>\n",
       "      <td>0</td>\n",
       "      <td>0</td>\n",
       "      <td>0</td>\n",
       "      <td>0</td>\n",
       "      <td>0</td>\n",
       "      <td>0</td>\n",
       "      <td>0</td>\n",
       "      <td>0</td>\n",
       "      <td>1</td>\n",
       "    </tr>\n",
       "    <tr>\n",
       "      <th>3</th>\n",
       "      <td>Germany</td>\n",
       "      <td>64516.129030</td>\n",
       "      <td>4</td>\n",
       "      <td>0</td>\n",
       "      <td>0</td>\n",
       "      <td>1000</td>\n",
       "      <td>Not remote</td>\n",
       "      <td>9</td>\n",
       "      <td>0</td>\n",
       "      <td>0</td>\n",
       "      <td>...</td>\n",
       "      <td>0</td>\n",
       "      <td>0</td>\n",
       "      <td>0</td>\n",
       "      <td>0</td>\n",
       "      <td>0</td>\n",
       "      <td>0</td>\n",
       "      <td>0</td>\n",
       "      <td>0</td>\n",
       "      <td>0</td>\n",
       "      <td>1</td>\n",
       "    </tr>\n",
       "    <tr>\n",
       "      <th>4</th>\n",
       "      <td>India</td>\n",
       "      <td>6636.323594</td>\n",
       "      <td>1</td>\n",
       "      <td>0</td>\n",
       "      <td>1</td>\n",
       "      <td>5000</td>\n",
       "      <td>Not remote</td>\n",
       "      <td>5</td>\n",
       "      <td>0</td>\n",
       "      <td>0</td>\n",
       "      <td>...</td>\n",
       "      <td>0</td>\n",
       "      <td>0</td>\n",
       "      <td>0</td>\n",
       "      <td>0</td>\n",
       "      <td>0</td>\n",
       "      <td>0</td>\n",
       "      <td>0</td>\n",
       "      <td>0</td>\n",
       "      <td>0</td>\n",
       "      <td>1</td>\n",
       "    </tr>\n",
       "  </tbody>\n",
       "</table>\n",
       "<p>5 rows × 21 columns</p>\n",
       "</div>"
      ],
      "text/plain": [
       "          Country         Salary  YearsCodedJob  OpenSource  Hobby  \\\n",
       "0  United Kingdom  100000.000000             20           0      1   \n",
       "1   United States  130000.000000             20           1      1   \n",
       "2   United States  175000.000000             16           0      1   \n",
       "3         Germany   64516.129030              4           0      0   \n",
       "4           India    6636.323594              1           0      1   \n",
       "\n",
       "   CompanySizeNumber      Remote  CareerSatisfaction  Data_scientist  \\\n",
       "0               5000      Remote                   8               0   \n",
       "1               1000      Remote                   9               0   \n",
       "2              10000  Not remote                   7               0   \n",
       "3               1000  Not remote                   9               0   \n",
       "4               5000  Not remote                   5               0   \n",
       "\n",
       "   Database_administrator  ...  Developer_with_stats_math_background  DevOps  \\\n",
       "0                       0  ...                                     0       0   \n",
       "1                       0  ...                                     0       1   \n",
       "2                       0  ...                                     0       0   \n",
       "3                       0  ...                                     0       0   \n",
       "4                       0  ...                                     0       0   \n",
       "\n",
       "   Embedded_developer  Graphic_designer  Graphics_programming  \\\n",
       "0                   1                 0                     0   \n",
       "1                   1                 0                     0   \n",
       "2                   0                 0                     0   \n",
       "3                   0                 0                     0   \n",
       "4                   0                 0                     0   \n",
       "\n",
       "   Machine_learning_specialist  Mobile_developer  Quality_assurance_engineer  \\\n",
       "0                            0                 0                           0   \n",
       "1                            0                 0                           1   \n",
       "2                            0                 0                           0   \n",
       "3                            0                 0                           0   \n",
       "4                            0                 0                           0   \n",
       "\n",
       "   Systems_administrator  Web_developer  \n",
       "0                      0              0  \n",
       "1                      0              1  \n",
       "2                      0              1  \n",
       "3                      0              1  \n",
       "4                      0              1  \n",
       "\n",
       "[5 rows x 21 columns]"
      ]
     },
     "execution_count": 3,
     "metadata": {},
     "output_type": "execute_result"
    }
   ],
   "source": [
    "df.head()"
   ]
  },
  {
   "cell_type": "markdown",
   "id": "eb8cbdfa",
   "metadata": {},
   "source": [
    "## Understand the unconfoundedness assumption\n",
    "\n",
    "One of the main assumption of the matching methods is the unfoundedness. This assumption says loosely that all the variables (we call them covariates) affecting both the treatment T and the outcome Y are observed. \n",
    "\n",
    "This is why this assumption is often called Selection on Observables.\n",
    "\n",
    "To continue with our project we assume that **the treated group and the untreated group differ only in one set of observable characteristics.**"
   ]
  },
  {
   "cell_type": "markdown",
   "id": "cf948a8b",
   "metadata": {},
   "source": [
    "### Comparing the groups means"
   ]
  },
  {
   "cell_type": "code",
   "execution_count": 5,
   "id": "97fd05b9",
   "metadata": {},
   "outputs": [
    {
     "data": {
      "text/html": [
       "<div>\n",
       "<style scoped>\n",
       "    .dataframe tbody tr th:only-of-type {\n",
       "        vertical-align: middle;\n",
       "    }\n",
       "\n",
       "    .dataframe tbody tr th {\n",
       "        vertical-align: top;\n",
       "    }\n",
       "\n",
       "    .dataframe thead th {\n",
       "        text-align: right;\n",
       "    }\n",
       "</style>\n",
       "<table border=\"1\" class=\"dataframe\">\n",
       "  <thead>\n",
       "    <tr style=\"text-align: right;\">\n",
       "      <th></th>\n",
       "      <th>Salary</th>\n",
       "      <th>YearsCodedJob</th>\n",
       "      <th>OpenSource</th>\n",
       "      <th>Hobby</th>\n",
       "      <th>CompanySizeNumber</th>\n",
       "      <th>CareerSatisfaction</th>\n",
       "      <th>Data_scientist</th>\n",
       "      <th>Database_administrator</th>\n",
       "      <th>Desktop_applications_developer</th>\n",
       "      <th>Developer_with_stats_math_background</th>\n",
       "      <th>DevOps</th>\n",
       "      <th>Embedded_developer</th>\n",
       "      <th>Graphic_designer</th>\n",
       "      <th>Graphics_programming</th>\n",
       "      <th>Machine_learning_specialist</th>\n",
       "      <th>Mobile_developer</th>\n",
       "      <th>Quality_assurance_engineer</th>\n",
       "      <th>Systems_administrator</th>\n",
       "      <th>Web_developer</th>\n",
       "    </tr>\n",
       "    <tr>\n",
       "      <th>Remote</th>\n",
       "      <th></th>\n",
       "      <th></th>\n",
       "      <th></th>\n",
       "      <th></th>\n",
       "      <th></th>\n",
       "      <th></th>\n",
       "      <th></th>\n",
       "      <th></th>\n",
       "      <th></th>\n",
       "      <th></th>\n",
       "      <th></th>\n",
       "      <th></th>\n",
       "      <th></th>\n",
       "      <th></th>\n",
       "      <th></th>\n",
       "      <th></th>\n",
       "      <th></th>\n",
       "      <th></th>\n",
       "      <th></th>\n",
       "    </tr>\n",
       "  </thead>\n",
       "  <tbody>\n",
       "    <tr>\n",
       "      <th>Not remote</th>\n",
       "      <td>70201.175042</td>\n",
       "      <td>7.142857</td>\n",
       "      <td>0.332736</td>\n",
       "      <td>0.760510</td>\n",
       "      <td>2187.325563</td>\n",
       "      <td>7.551106</td>\n",
       "      <td>0.071130</td>\n",
       "      <td>0.130106</td>\n",
       "      <td>0.286312</td>\n",
       "      <td>0.106993</td>\n",
       "      <td>0.121140</td>\n",
       "      <td>0.081092</td>\n",
       "      <td>0.027097</td>\n",
       "      <td>0.031680</td>\n",
       "      <td>0.032477</td>\n",
       "      <td>0.193465</td>\n",
       "      <td>0.035266</td>\n",
       "      <td>0.105997</td>\n",
       "      <td>0.718868</td>\n",
       "    </tr>\n",
       "    <tr>\n",
       "      <th>Remote</th>\n",
       "      <td>87400.737001</td>\n",
       "      <td>10.120000</td>\n",
       "      <td>0.443478</td>\n",
       "      <td>0.766957</td>\n",
       "      <td>1712.756522</td>\n",
       "      <td>7.855652</td>\n",
       "      <td>0.062609</td>\n",
       "      <td>0.180870</td>\n",
       "      <td>0.253913</td>\n",
       "      <td>0.107826</td>\n",
       "      <td>0.142609</td>\n",
       "      <td>0.064348</td>\n",
       "      <td>0.026087</td>\n",
       "      <td>0.033043</td>\n",
       "      <td>0.022609</td>\n",
       "      <td>0.220870</td>\n",
       "      <td>0.029565</td>\n",
       "      <td>0.139130</td>\n",
       "      <td>0.751304</td>\n",
       "    </tr>\n",
       "  </tbody>\n",
       "</table>\n",
       "</div>"
      ],
      "text/plain": [
       "                  Salary  YearsCodedJob  OpenSource     Hobby  \\\n",
       "Remote                                                          \n",
       "Not remote  70201.175042       7.142857    0.332736  0.760510   \n",
       "Remote      87400.737001      10.120000    0.443478  0.766957   \n",
       "\n",
       "            CompanySizeNumber  CareerSatisfaction  Data_scientist  \\\n",
       "Remote                                                              \n",
       "Not remote        2187.325563            7.551106        0.071130   \n",
       "Remote            1712.756522            7.855652        0.062609   \n",
       "\n",
       "            Database_administrator  Desktop_applications_developer  \\\n",
       "Remote                                                               \n",
       "Not remote                0.130106                        0.286312   \n",
       "Remote                    0.180870                        0.253913   \n",
       "\n",
       "            Developer_with_stats_math_background    DevOps  \\\n",
       "Remote                                                       \n",
       "Not remote                              0.106993  0.121140   \n",
       "Remote                                  0.107826  0.142609   \n",
       "\n",
       "            Embedded_developer  Graphic_designer  Graphics_programming  \\\n",
       "Remote                                                                   \n",
       "Not remote            0.081092          0.027097              0.031680   \n",
       "Remote                0.064348          0.026087              0.033043   \n",
       "\n",
       "            Machine_learning_specialist  Mobile_developer  \\\n",
       "Remote                                                      \n",
       "Not remote                     0.032477          0.193465   \n",
       "Remote                         0.022609          0.220870   \n",
       "\n",
       "            Quality_assurance_engineer  Systems_administrator  Web_developer  \n",
       "Remote                                                                        \n",
       "Not remote                    0.035266               0.105997       0.718868  \n",
       "Remote                        0.029565               0.139130       0.751304  "
      ]
     },
     "execution_count": 5,
     "metadata": {},
     "output_type": "execute_result"
    }
   ],
   "source": [
    "df.groupby('Remote').mean()"
   ]
  },
  {
   "cell_type": "markdown",
   "id": "8f3d795c",
   "metadata": {},
   "source": [
    "As we can see from the crosstable above, the two groups seem to differ not only in whether or not they were treated, but also in almost all other observed characteristics.\n",
    "\n",
    "We will then run a series of T-tests and Chi-squared tests to ensure that these differences are statistically significant."
   ]
  },
  {
   "cell_type": "markdown",
   "id": "c98296e3",
   "metadata": {},
   "source": [
    "### Preparing the data for the statistical tests"
   ]
  },
  {
   "cell_type": "code",
   "execution_count": 6,
   "id": "3d1d95e1",
   "metadata": {},
   "outputs": [],
   "source": [
    "df['Remote'] = np.where(df['Remote'] == 'Remote',1,0)"
   ]
  },
  {
   "cell_type": "code",
   "execution_count": 7,
   "id": "2d9af29c",
   "metadata": {},
   "outputs": [
    {
     "data": {
      "text/html": [
       "<div>\n",
       "<style scoped>\n",
       "    .dataframe tbody tr th:only-of-type {\n",
       "        vertical-align: middle;\n",
       "    }\n",
       "\n",
       "    .dataframe tbody tr th {\n",
       "        vertical-align: top;\n",
       "    }\n",
       "\n",
       "    .dataframe thead th {\n",
       "        text-align: right;\n",
       "    }\n",
       "</style>\n",
       "<table border=\"1\" class=\"dataframe\">\n",
       "  <thead>\n",
       "    <tr style=\"text-align: right;\">\n",
       "      <th></th>\n",
       "      <th>Country</th>\n",
       "      <th>Salary</th>\n",
       "      <th>YearsCodedJob</th>\n",
       "      <th>OpenSource</th>\n",
       "      <th>Hobby</th>\n",
       "      <th>CompanySizeNumber</th>\n",
       "      <th>Remote</th>\n",
       "      <th>CareerSatisfaction</th>\n",
       "      <th>Data_scientist</th>\n",
       "      <th>Database_administrator</th>\n",
       "      <th>...</th>\n",
       "      <th>Developer_with_stats_math_background</th>\n",
       "      <th>DevOps</th>\n",
       "      <th>Embedded_developer</th>\n",
       "      <th>Graphic_designer</th>\n",
       "      <th>Graphics_programming</th>\n",
       "      <th>Machine_learning_specialist</th>\n",
       "      <th>Mobile_developer</th>\n",
       "      <th>Quality_assurance_engineer</th>\n",
       "      <th>Systems_administrator</th>\n",
       "      <th>Web_developer</th>\n",
       "    </tr>\n",
       "  </thead>\n",
       "  <tbody>\n",
       "    <tr>\n",
       "      <th>0</th>\n",
       "      <td>United Kingdom</td>\n",
       "      <td>100000.0</td>\n",
       "      <td>20</td>\n",
       "      <td>0</td>\n",
       "      <td>1</td>\n",
       "      <td>5000</td>\n",
       "      <td>1</td>\n",
       "      <td>8</td>\n",
       "      <td>0</td>\n",
       "      <td>0</td>\n",
       "      <td>...</td>\n",
       "      <td>0</td>\n",
       "      <td>0</td>\n",
       "      <td>1</td>\n",
       "      <td>0</td>\n",
       "      <td>0</td>\n",
       "      <td>0</td>\n",
       "      <td>0</td>\n",
       "      <td>0</td>\n",
       "      <td>0</td>\n",
       "      <td>0</td>\n",
       "    </tr>\n",
       "  </tbody>\n",
       "</table>\n",
       "<p>1 rows × 21 columns</p>\n",
       "</div>"
      ],
      "text/plain": [
       "          Country    Salary  YearsCodedJob  OpenSource  Hobby  \\\n",
       "0  United Kingdom  100000.0             20           0      1   \n",
       "\n",
       "   CompanySizeNumber  Remote  CareerSatisfaction  Data_scientist  \\\n",
       "0               5000       1                   8               0   \n",
       "\n",
       "   Database_administrator  ...  Developer_with_stats_math_background  DevOps  \\\n",
       "0                       0  ...                                     0       0   \n",
       "\n",
       "   Embedded_developer  Graphic_designer  Graphics_programming  \\\n",
       "0                   1                 0                     0   \n",
       "\n",
       "   Machine_learning_specialist  Mobile_developer  Quality_assurance_engineer  \\\n",
       "0                            0                 0                           0   \n",
       "\n",
       "   Systems_administrator  Web_developer  \n",
       "0                      0              0  \n",
       "\n",
       "[1 rows x 21 columns]"
      ]
     },
     "execution_count": 7,
     "metadata": {},
     "output_type": "execute_result"
    }
   ],
   "source": [
    "df.head(1)"
   ]
  },
  {
   "cell_type": "code",
   "execution_count": 8,
   "id": "a20d04ca",
   "metadata": {},
   "outputs": [
    {
     "data": {
      "text/plain": [
       "Index(['Country', 'Salary', 'YearsCodedJob', 'OpenSource', 'Hobby',\n",
       "       'CompanySizeNumber', 'Remote', 'CareerSatisfaction', 'Data_scientist',\n",
       "       'Database_administrator', 'Desktop_applications_developer',\n",
       "       'Developer_with_stats_math_background', 'DevOps', 'Embedded_developer',\n",
       "       'Graphic_designer', 'Graphics_programming',\n",
       "       'Machine_learning_specialist', 'Mobile_developer',\n",
       "       'Quality_assurance_engineer', 'Systems_administrator', 'Web_developer'],\n",
       "      dtype='object')"
      ]
     },
     "execution_count": 8,
     "metadata": {},
     "output_type": "execute_result"
    }
   ],
   "source": [
    "df.columns\n"
   ]
  },
  {
   "cell_type": "markdown",
   "id": "e15c49e9",
   "metadata": {},
   "source": [
    "### T-test for continuous variables"
   ]
  },
  {
   "cell_type": "code",
   "execution_count": 9,
   "id": "c4058cfe",
   "metadata": {},
   "outputs": [],
   "source": [
    "continuous = ['Salary', 'CompanySizeNumber', 'YearsCodedJob']\n",
    "\n",
    "stats = {}\n",
    "pvalues = {}\n",
    "\n",
    "for v in continuous:\n",
    "    group1 = df[df['Remote'] ==0].dropna()[v]\n",
    "    group2 = df[df['Remote'] ==1].dropna()[v]\n",
    "    stats[v], pvalues[v] = ss.ttest_ind(group1, group2)"
   ]
  },
  {
   "cell_type": "code",
   "execution_count": 10,
   "id": "fbc8f2e1",
   "metadata": {},
   "outputs": [],
   "source": [
    "pvalues = pd.DataFrame.from_dict(pvalues, orient='Index')"
   ]
  },
  {
   "cell_type": "code",
   "execution_count": 11,
   "id": "729b3c39",
   "metadata": {},
   "outputs": [
    {
     "data": {
      "text/html": [
       "<div>\n",
       "<style scoped>\n",
       "    .dataframe tbody tr th:only-of-type {\n",
       "        vertical-align: middle;\n",
       "    }\n",
       "\n",
       "    .dataframe tbody tr th {\n",
       "        vertical-align: top;\n",
       "    }\n",
       "\n",
       "    .dataframe thead th {\n",
       "        text-align: right;\n",
       "    }\n",
       "</style>\n",
       "<table border=\"1\" class=\"dataframe\">\n",
       "  <thead>\n",
       "    <tr style=\"text-align: right;\">\n",
       "      <th></th>\n",
       "      <th>0</th>\n",
       "    </tr>\n",
       "  </thead>\n",
       "  <tbody>\n",
       "    <tr>\n",
       "      <th>Salary</th>\n",
       "      <td>1.057708e-22</td>\n",
       "    </tr>\n",
       "    <tr>\n",
       "      <th>CompanySizeNumber</th>\n",
       "      <td>4.084448e-03</td>\n",
       "    </tr>\n",
       "    <tr>\n",
       "      <th>YearsCodedJob</th>\n",
       "      <td>3.637316e-30</td>\n",
       "    </tr>\n",
       "  </tbody>\n",
       "</table>\n",
       "</div>"
      ],
      "text/plain": [
       "                              0\n",
       "Salary             1.057708e-22\n",
       "CompanySizeNumber  4.084448e-03\n",
       "YearsCodedJob      3.637316e-30"
      ]
     },
     "execution_count": 11,
     "metadata": {},
     "output_type": "execute_result"
    }
   ],
   "source": [
    "pvalues"
   ]
  },
  {
   "cell_type": "markdown",
   "id": "94400bf6",
   "metadata": {},
   "source": [
    "**The p-values ​​resulting from the t-test performed on the continuous variables are very small, this allows us to confirm that there is a difference between the means of the groups and that this difference is statistically significant.**"
   ]
  },
  {
   "cell_type": "markdown",
   "id": "b6799f41",
   "metadata": {},
   "source": [
    "###  Chi-squared tests for discrete variables"
   ]
  },
  {
   "cell_type": "code",
   "execution_count": 12,
   "id": "8fabf06e",
   "metadata": {},
   "outputs": [],
   "source": [
    "binary = ['OpenSource', 'Hobby',\n",
    "    'Data_scientist',\n",
    "       'Database_administrator', 'Desktop_applications_developer',\n",
    "       'Developer_with_stats_math_background', 'DevOps', 'Embedded_developer',\n",
    "       'Graphic_designer', 'Graphics_programming',\n",
    "       'Machine_learning_specialist', 'Mobile_developer',\n",
    "       'Quality_assurance_engineer', 'Systems_administrator', 'Web_developer']\n",
    "stat ={}\n",
    "pvalue ={}\n",
    "dof={}\n",
    "expected={}\n",
    "\n",
    "for v in binary: \n",
    "    tab = pd.crosstab(index=df[v], columns= df.CareerSatisfaction)\n",
    "    stat[v], pvalue[v], dof[v], expected[v] = ss.chi2_contingency(tab)"
   ]
  },
  {
   "cell_type": "code",
   "execution_count": 13,
   "id": "2ababdc7",
   "metadata": {},
   "outputs": [
    {
     "data": {
      "text/html": [
       "<div>\n",
       "<style scoped>\n",
       "    .dataframe tbody tr th:only-of-type {\n",
       "        vertical-align: middle;\n",
       "    }\n",
       "\n",
       "    .dataframe tbody tr th {\n",
       "        vertical-align: top;\n",
       "    }\n",
       "\n",
       "    .dataframe thead th {\n",
       "        text-align: right;\n",
       "    }\n",
       "</style>\n",
       "<table border=\"1\" class=\"dataframe\">\n",
       "  <thead>\n",
       "    <tr style=\"text-align: right;\">\n",
       "      <th></th>\n",
       "      <th>pvalue</th>\n",
       "    </tr>\n",
       "  </thead>\n",
       "  <tbody>\n",
       "    <tr>\n",
       "      <th>OpenSource</th>\n",
       "      <td>0.000031</td>\n",
       "    </tr>\n",
       "    <tr>\n",
       "      <th>Hobby</th>\n",
       "      <td>0.000124</td>\n",
       "    </tr>\n",
       "    <tr>\n",
       "      <th>Data_scientist</th>\n",
       "      <td>0.564595</td>\n",
       "    </tr>\n",
       "    <tr>\n",
       "      <th>Database_administrator</th>\n",
       "      <td>0.073759</td>\n",
       "    </tr>\n",
       "    <tr>\n",
       "      <th>Desktop_applications_developer</th>\n",
       "      <td>0.639982</td>\n",
       "    </tr>\n",
       "    <tr>\n",
       "      <th>Developer_with_stats_math_background</th>\n",
       "      <td>0.077096</td>\n",
       "    </tr>\n",
       "    <tr>\n",
       "      <th>DevOps</th>\n",
       "      <td>0.868412</td>\n",
       "    </tr>\n",
       "    <tr>\n",
       "      <th>Embedded_developer</th>\n",
       "      <td>0.262020</td>\n",
       "    </tr>\n",
       "    <tr>\n",
       "      <th>Graphic_designer</th>\n",
       "      <td>0.700763</td>\n",
       "    </tr>\n",
       "    <tr>\n",
       "      <th>Graphics_programming</th>\n",
       "      <td>0.794663</td>\n",
       "    </tr>\n",
       "    <tr>\n",
       "      <th>Machine_learning_specialist</th>\n",
       "      <td>0.074703</td>\n",
       "    </tr>\n",
       "    <tr>\n",
       "      <th>Mobile_developer</th>\n",
       "      <td>0.008559</td>\n",
       "    </tr>\n",
       "    <tr>\n",
       "      <th>Quality_assurance_engineer</th>\n",
       "      <td>0.046416</td>\n",
       "    </tr>\n",
       "    <tr>\n",
       "      <th>Systems_administrator</th>\n",
       "      <td>0.203846</td>\n",
       "    </tr>\n",
       "    <tr>\n",
       "      <th>Web_developer</th>\n",
       "      <td>0.004309</td>\n",
       "    </tr>\n",
       "  </tbody>\n",
       "</table>\n",
       "</div>"
      ],
      "text/plain": [
       "                                        pvalue\n",
       "OpenSource                            0.000031\n",
       "Hobby                                 0.000124\n",
       "Data_scientist                        0.564595\n",
       "Database_administrator                0.073759\n",
       "Desktop_applications_developer        0.639982\n",
       "Developer_with_stats_math_background  0.077096\n",
       "DevOps                                0.868412\n",
       "Embedded_developer                    0.262020\n",
       "Graphic_designer                      0.700763\n",
       "Graphics_programming                  0.794663\n",
       "Machine_learning_specialist           0.074703\n",
       "Mobile_developer                      0.008559\n",
       "Quality_assurance_engineer            0.046416\n",
       "Systems_administrator                 0.203846\n",
       "Web_developer                         0.004309"
      ]
     },
     "execution_count": 13,
     "metadata": {},
     "output_type": "execute_result"
    }
   ],
   "source": [
    "chisquare = pd.DataFrame.from_dict(pvalue, orient='Index')\n",
    "chisquare.columns=['pvalue']\n",
    "chisquare"
   ]
  },
  {
   "cell_type": "markdown",
   "id": "07a93f20",
   "metadata": {},
   "source": [
    "**The chi-squared tests show us that there is a relationship between some characteristics of the subjects studied and career satisfaction. Once again we have a confirmation that the two groups cannot be compared but as we said we will solve this problem using matching.**"
   ]
  },
  {
   "cell_type": "markdown",
   "id": "a995a5ea",
   "metadata": {},
   "source": [
    "## Matching"
   ]
  },
  {
   "cell_type": "markdown",
   "id": "e3cf528c",
   "metadata": {},
   "source": [
    "### Preparring the data for the matching "
   ]
  },
  {
   "cell_type": "code",
   "execution_count": 14,
   "id": "c2cad43c",
   "metadata": {},
   "outputs": [
    {
     "data": {
      "text/plain": [
       "United States     2791\n",
       "United Kingdom    1023\n",
       "Germany            757\n",
       "India              538\n",
       "Canada             485\n",
       "Name: Country, dtype: int64"
      ]
     },
     "execution_count": 14,
     "metadata": {},
     "output_type": "execute_result"
    }
   ],
   "source": [
    "df.Country.value_counts()"
   ]
  },
  {
   "cell_type": "code",
   "execution_count": 15,
   "id": "e0ed6fae",
   "metadata": {},
   "outputs": [],
   "source": [
    "# getting dummies variable for Country\n",
    "df = pd.get_dummies(df, drop_first=True)"
   ]
  },
  {
   "cell_type": "code",
   "execution_count": 16,
   "id": "4173812f",
   "metadata": {},
   "outputs": [
    {
     "data": {
      "text/html": [
       "<div>\n",
       "<style scoped>\n",
       "    .dataframe tbody tr th:only-of-type {\n",
       "        vertical-align: middle;\n",
       "    }\n",
       "\n",
       "    .dataframe tbody tr th {\n",
       "        vertical-align: top;\n",
       "    }\n",
       "\n",
       "    .dataframe thead th {\n",
       "        text-align: right;\n",
       "    }\n",
       "</style>\n",
       "<table border=\"1\" class=\"dataframe\">\n",
       "  <thead>\n",
       "    <tr style=\"text-align: right;\">\n",
       "      <th></th>\n",
       "      <th>Salary</th>\n",
       "      <th>YearsCodedJob</th>\n",
       "      <th>OpenSource</th>\n",
       "      <th>Hobby</th>\n",
       "      <th>CompanySizeNumber</th>\n",
       "      <th>Remote</th>\n",
       "      <th>CareerSatisfaction</th>\n",
       "      <th>Data_scientist</th>\n",
       "      <th>Database_administrator</th>\n",
       "      <th>Desktop_applications_developer</th>\n",
       "      <th>...</th>\n",
       "      <th>Graphics_programming</th>\n",
       "      <th>Machine_learning_specialist</th>\n",
       "      <th>Mobile_developer</th>\n",
       "      <th>Quality_assurance_engineer</th>\n",
       "      <th>Systems_administrator</th>\n",
       "      <th>Web_developer</th>\n",
       "      <th>Country_Germany</th>\n",
       "      <th>Country_India</th>\n",
       "      <th>Country_United Kingdom</th>\n",
       "      <th>Country_United States</th>\n",
       "    </tr>\n",
       "  </thead>\n",
       "  <tbody>\n",
       "    <tr>\n",
       "      <th>0</th>\n",
       "      <td>100000.0</td>\n",
       "      <td>20</td>\n",
       "      <td>0</td>\n",
       "      <td>1</td>\n",
       "      <td>5000</td>\n",
       "      <td>1</td>\n",
       "      <td>8</td>\n",
       "      <td>0</td>\n",
       "      <td>0</td>\n",
       "      <td>0</td>\n",
       "      <td>...</td>\n",
       "      <td>0</td>\n",
       "      <td>0</td>\n",
       "      <td>0</td>\n",
       "      <td>0</td>\n",
       "      <td>0</td>\n",
       "      <td>0</td>\n",
       "      <td>0</td>\n",
       "      <td>0</td>\n",
       "      <td>1</td>\n",
       "      <td>0</td>\n",
       "    </tr>\n",
       "  </tbody>\n",
       "</table>\n",
       "<p>1 rows × 24 columns</p>\n",
       "</div>"
      ],
      "text/plain": [
       "     Salary  YearsCodedJob  OpenSource  Hobby  CompanySizeNumber  Remote  \\\n",
       "0  100000.0             20           0      1               5000       1   \n",
       "\n",
       "   CareerSatisfaction  Data_scientist  Database_administrator  \\\n",
       "0                   8               0                       0   \n",
       "\n",
       "   Desktop_applications_developer  ...  Graphics_programming  \\\n",
       "0                               0  ...                     0   \n",
       "\n",
       "   Machine_learning_specialist  Mobile_developer  Quality_assurance_engineer  \\\n",
       "0                            0                 0                           0   \n",
       "\n",
       "   Systems_administrator  Web_developer  Country_Germany  Country_India  \\\n",
       "0                      0              0                0              0   \n",
       "\n",
       "   Country_United Kingdom  Country_United States  \n",
       "0                       1                      0  \n",
       "\n",
       "[1 rows x 24 columns]"
      ]
     },
     "execution_count": 16,
     "metadata": {},
     "output_type": "execute_result"
    }
   ],
   "source": [
    "df.head(1)"
   ]
  },
  {
   "cell_type": "code",
   "execution_count": 17,
   "id": "dfaf2766",
   "metadata": {},
   "outputs": [],
   "source": [
    "# isolating the treatment\n",
    "treat = df['Remote'].values"
   ]
  },
  {
   "cell_type": "code",
   "execution_count": 18,
   "id": "a4c6b1d6",
   "metadata": {},
   "outputs": [],
   "source": [
    "# isolating the dependent variable\n",
    "y = df['CareerSatisfaction'].values"
   ]
  },
  {
   "cell_type": "code",
   "execution_count": 19,
   "id": "e6f04570",
   "metadata": {},
   "outputs": [],
   "source": [
    "# isolating the cofunders\n",
    "confunders = df.drop(columns=['Remote', 'CareerSatisfaction'], axis=1).values\n"
   ]
  },
  {
   "cell_type": "markdown",
   "id": "2b4a590f",
   "metadata": {},
   "source": [
    "## Common Support Region\n",
    "\n",
    "In order to proceed with the matching we must ensure that the subjects belonging to the treated group and the untreated group are similar enough.\n",
    "\n",
    "To do this we will calculate the propensity score. A propensity score is the probability of a subject being assigned to a particular treatment given a set of observed covariates.\n",
    "\n",
    "Once we have calculated the propensity score we need to ensure that there is an overlap between the range of propensity scores of the treated group and the untreated group. This overlapping is called **Common Support Region**. We cannot make any inferences about treatment efficacy for those subjects for whom no other subject exists with a similar propensity score.\n",
    "\n",
    "We estimate the propensity score by running a logistic regresion model where the outcome variable is a binary variable indicating treatment status. "
   ]
  },
  {
   "cell_type": "code",
   "execution_count": 20,
   "id": "3e7d5deb",
   "metadata": {},
   "outputs": [
    {
     "name": "stdout",
     "output_type": "stream",
     "text": [
      "Optimization terminated successfully.\n",
      "         Current function value: 0.306995\n",
      "         Iterations 7\n",
      "                           Logit Regression Results                           \n",
      "==============================================================================\n",
      "Dep. Variable:                      y   No. Observations:                 5594\n",
      "Model:                          Logit   Df Residuals:                     5571\n",
      "Method:                           MLE   Df Model:                           22\n",
      "Date:                Tue, 22 Nov 2022   Pseudo R-squ.:                 0.07299\n",
      "Time:                        10:14:00   Log-Likelihood:                -1717.3\n",
      "converged:                       True   LL-Null:                       -1852.6\n",
      "Covariance Type:            nonrobust   LLR p-value:                 1.145e-44\n",
      "==============================================================================\n",
      "                 coef    std err          z      P>|z|      [0.025      0.975]\n",
      "------------------------------------------------------------------------------\n",
      "const         -3.7907      0.259    -14.664      0.000      -4.297      -3.284\n",
      "x1          4.442e-06   1.77e-06      2.504      0.012    9.65e-07    7.92e-06\n",
      "x2             0.0694      0.009      8.127      0.000       0.053       0.086\n",
      "x3             0.3644      0.096      3.800      0.000       0.176       0.552\n",
      "x4             0.0445      0.110      0.404      0.686      -0.171       0.260\n",
      "x5         -6.057e-05   1.36e-05     -4.459      0.000   -8.72e-05   -3.39e-05\n",
      "x6            -0.0976      0.210     -0.466      0.642      -0.509       0.313\n",
      "x7             0.4118      0.141      2.915      0.004       0.135       0.689\n",
      "x8            -0.2857      0.109     -2.612      0.009      -0.500      -0.071\n",
      "x9            -0.0221      0.154     -0.143      0.886      -0.325       0.281\n",
      "x10           -0.0775      0.144     -0.540      0.589      -0.359       0.204\n",
      "x11           -0.3136      0.189     -1.658      0.097      -0.684       0.057\n",
      "x12           -0.0396      0.292     -0.135      0.892      -0.613       0.533\n",
      "x13            0.1073      0.265      0.405      0.685      -0.412       0.626\n",
      "x14           -0.3955      0.331     -1.194      0.233      -1.045       0.254\n",
      "x15            0.2039      0.114      1.796      0.072      -0.019       0.426\n",
      "x16           -0.2018      0.270     -0.746      0.456      -0.732       0.328\n",
      "x17            0.0821      0.161      0.510      0.610      -0.233       0.397\n",
      "x18            0.0549      0.111      0.496      0.620      -0.162       0.272\n",
      "x19           -0.0270      0.257     -0.105      0.916      -0.531       0.477\n",
      "x20            1.1671      0.258      4.522      0.000       0.661       1.673\n",
      "x21            0.2280      0.234      0.974      0.330      -0.231       0.687\n",
      "x22            0.7895      0.217      3.640      0.000       0.364       1.215\n",
      "==============================================================================\n"
     ]
    }
   ],
   "source": [
    "import statsmodels.api as sm\n",
    "confunders_csr = sm.add_constant(confunders)\n",
    "csr_model = sm.Logit(treat, confunders_csr).fit()\n",
    "print(csr_model.summary())"
   ]
  },
  {
   "cell_type": "code",
   "execution_count": 21,
   "id": "6647c31c",
   "metadata": {},
   "outputs": [],
   "source": [
    "probabilitis = csr_model.predict(confunders_csr)"
   ]
  },
  {
   "cell_type": "code",
   "execution_count": 22,
   "id": "7f33daeb",
   "metadata": {},
   "outputs": [
    {
     "data": {
      "text/plain": [
       "array([[1.        , 0.09092906],\n",
       "       [1.        , 0.22701329],\n",
       "       [0.        , 0.16525409],\n",
       "       ...,\n",
       "       [0.        , 0.09817125],\n",
       "       [0.        , 0.05286696],\n",
       "       [0.        , 0.0901275 ]])"
      ]
     },
     "execution_count": 22,
     "metadata": {},
     "output_type": "execute_result"
    }
   ],
   "source": [
    "df_prob = np.vstack([treat, probabilitis]).transpose()\n",
    "df_prob"
   ]
  },
  {
   "cell_type": "code",
   "execution_count": 23,
   "id": "674195e4",
   "metadata": {},
   "outputs": [],
   "source": [
    "not_treated = df_prob[df_prob[:,0] == 0][:,1]"
   ]
  },
  {
   "cell_type": "code",
   "execution_count": 24,
   "id": "cb7b3ded",
   "metadata": {},
   "outputs": [],
   "source": [
    "treated = df_prob[df_prob[:,0] == 1][:,1]"
   ]
  },
  {
   "cell_type": "code",
   "execution_count": 25,
   "id": "7f113338",
   "metadata": {},
   "outputs": [
    {
     "data": {
      "text/plain": [
       "array([0.16525409, 0.03699788, 0.06132909, ..., 0.09817125, 0.05286696,\n",
       "       0.0901275 ])"
      ]
     },
     "execution_count": 25,
     "metadata": {},
     "output_type": "execute_result"
    }
   ],
   "source": [
    "not_treated"
   ]
  },
  {
   "cell_type": "code",
   "execution_count": 26,
   "id": "0cfac851",
   "metadata": {},
   "outputs": [
    {
     "data": {
      "image/png": "[encoded data removed]",
      "text/plain": [
       "<Figure size 432x288 with 1 Axes>"
      ]
     },
     "metadata": {
      "needs_background": "light"
     },
     "output_type": "display_data"
    }
   ],
   "source": [
    "plot_not_treated = sns.kdeplot(not_treated)\n",
    "plot_treated = sns.kdeplot(treated)"
   ]
  },
  {
   "cell_type": "markdown",
   "id": "8e6bf9d0",
   "metadata": {},
   "source": [
    "**The graph above shows us that there is enough overlap of the distribution of the propensity scores across treatment and comparison group and it indicates the regions of stratification share enough members of the treatment and control groups.**"
   ]
  },
  {
   "cell_type": "markdown",
   "id": "9d32ecd6",
   "metadata": {},
   "source": [
    "## Training the model"
   ]
  },
  {
   "cell_type": "code",
   "execution_count": 27,
   "id": "38d09b1d",
   "metadata": {},
   "outputs": [
    {
     "name": "stdout",
     "output_type": "stream",
     "text": [
      "\n",
      "Treatment Effect Estimates: Matching\n",
      "\n",
      "                     Est.       S.e.          z      P>|z|      [95% Conf. int.]\n",
      "--------------------------------------------------------------------------------\n",
      "           ATE      0.094      0.137      0.683      0.495     -0.175      0.363\n",
      "           ATC      0.071      0.144      0.491      0.624     -0.212      0.353\n",
      "           ATT      0.295      0.145      2.045      0.041      0.012      0.579\n",
      "\n"
     ]
    }
   ],
   "source": [
    "model = CausalModel(y, treat, confunders)\n",
    "model.est_via_matching(bias_adj=True)\n",
    "print(model.estimates)"
   ]
  },
  {
   "cell_type": "markdown",
   "id": "97022790",
   "metadata": {},
   "source": [
    "## How to interpret these results?\n",
    "\n",
    "To be able to do we can look at the Average Treatment Effect (ATE). The ATE measures the difference in mean outcomes between units assigned to the treatment and units assigned to the control.\n",
    "\n",
    "In our case the ATE is positive, this means that the subjects who received the treatment, therefore the remote workers, are on average more satisfied with their career. However, we can observe that the p-value is very high, this indicates that this result is not statistically significant.\n",
    "\n",
    "We can conclude our project by saying that it is not possible to establish whether there is a difference in job satisfaction for individuals who work remotely and those who do not."
   ]
  }
 ],
 "metadata": {
  "kernelspec": {
   "display_name": "Python 3 (ipykernel)",
   "language": "python",
   "name": "python3"
  },
  "language_info": {
   "codemirror_mode": {
    "name": "ipython",
    "version": 3
   },
   "file_extension": ".py",
   "mimetype": "text/x-python",
   "name": "python",
   "nbconvert_exporter": "python",
   "pygments_lexer": "ipython3",
   "version": "3.9.12"
  }
 },
 "nbformat": 4,
 "nbformat_minor": 5
}
